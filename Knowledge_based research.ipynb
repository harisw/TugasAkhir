{
 "cells": [
  {
   "cell_type": "code",
   "execution_count": 1,
   "metadata": {},
   "outputs": [],
   "source": [
    "from mysql.connector import MySQLConnection, Error\n",
    "from python_mysql_dbconfig import read_db_config\n",
    "from treetagger import TreeTagger\n",
    "from unidecode import unidecode\n",
    "from pprint import pprint\n",
    "from treetaggerwrapper import TreeTagger \n",
    "from nltk.parse.stanford import StanfordParser \n",
    "from nltk.tag import StanfordNERTagger as nerTagger \n",
    "from nltk.tokenize import word_tokenize\n",
    "from wnaffect import WNAffect\n",
    "from emotion import Emotion\n",
    "import os\n",
    "from collections import defaultdict\n",
    "from nltk.corpus import wordnet as wn\n",
    "import treetaggerwrapper\n",
    "from progress.bar import FillingCirclesBar as fcb\n",
    "import numpy as np"
   ]
  },
  {
   "cell_type": "code",
   "execution_count": 2,
   "metadata": {},
   "outputs": [
    {
     "name": "stderr",
     "output_type": "stream",
     "text": [
      "/usr/local/lib/python2.7/dist-packages/nltk/tag/stanford.py:183: DeprecationWarning: \n",
      "The StanfordTokenizer will be deprecated in version 3.2.5.\n",
      "Please use \u001b[91mnltk.tag.corenlp.CoreNLPPOSTagger\u001b[0m or \u001b[91mnltk.tag.corenlp.CoreNLPNERTagger\u001b[0m instead.\n",
      "  super(StanfordNERTagger, self).__init__(*args, **kwargs)\n"
     ]
    }
   ],
   "source": [
    "tt = TreeTagger(TAGLANG='en')\n",
    "english_parser = StanfordParser('knowledge_based/stanford-parser.jar', 'knowledge_based/stanford-parser-3.9.1-models.jar')\n",
    "st = nerTagger('knowledge_based/classifiers/english.muc.7class.distsim.crf.ser.gz', 'knowledge_based/stanford-ner-3.9.1.jar')\n",
    "wna = WNAffect('knowledge_based/wordnet1.6/', 'knowledge_based/wordnetAffect/')"
   ]
  },
  {
   "cell_type": "code",
   "execution_count": 3,
   "metadata": {},
   "outputs": [],
   "source": [
    "sentence = u\"At a gathering I found myself involuntarily sitting next to two á \\\n",
    "people who expressed opinions that I considered very low and á \\\n",
    "discriminating.\""
   ]
  },
  {
   "cell_type": "code",
   "execution_count": 4,
   "metadata": {},
   "outputs": [],
   "source": [
    "sentence2 = u\"When I lost the person who meant the most to me.\""
   ]
  },
  {
   "cell_type": "code",
   "execution_count": 5,
   "metadata": {},
   "outputs": [
    {
     "data": {
      "text/plain": [
       "[u'When\\tWRB\\twhen',\n",
       " u'I\\tPP\\tI',\n",
       " u'lost\\tVVD\\tlose',\n",
       " u'the\\tDT\\tthe',\n",
       " u'person\\tNN\\tperson',\n",
       " u'who\\tWP\\twho',\n",
       " u'meant\\tVVD\\tmean',\n",
       " u'the\\tDT\\tthe',\n",
       " u'most\\tJJS\\tmost',\n",
       " u'to\\tTO\\tto',\n",
       " u'me\\tPP\\tme',\n",
       " u'.\\tSENT\\t.']"
      ]
     },
     "execution_count": 5,
     "metadata": {},
     "output_type": "execute_result"
    }
   ],
   "source": [
    "tags2 = tt.tag_text(sentence2)\n",
    "tags2"
   ]
  },
  {
   "cell_type": "code",
   "execution_count": 6,
   "metadata": {},
   "outputs": [],
   "source": [
    "tags = tt.tag_text(sentence)"
   ]
  },
  {
   "cell_type": "code",
   "execution_count": 7,
   "metadata": {},
   "outputs": [
    {
     "data": {
      "text/plain": [
       "[u'At\\tIN\\tat',\n",
       " u'a\\tDT\\ta',\n",
       " u'gathering\\tNN\\tgathering',\n",
       " u'I\\tPP\\tI',\n",
       " u'found\\tVVD\\tfind',\n",
       " u'myself\\tPP\\tmyself',\n",
       " u'involuntarily\\tRB\\tinvoluntarily',\n",
       " u'sitting\\tVVG\\tsit',\n",
       " u'next\\tJJ\\tnext',\n",
       " u'to\\tTO\\tto',\n",
       " u'two\\tCD\\ttwo',\n",
       " u'\\xe1\\tNP\\t\\xe1',\n",
       " u'people\\tNNS\\tpeople',\n",
       " u'who\\tWP\\twho',\n",
       " u'expressed\\tVVD\\texpress',\n",
       " u'opinions\\tNNS\\topinion',\n",
       " u'that\\tIN/that\\tthat',\n",
       " u'I\\tPP\\tI',\n",
       " u'considered\\tVVD\\tconsider',\n",
       " u'very\\tRB\\tvery',\n",
       " u'low\\tJJ\\tlow',\n",
       " u'and\\tCC\\tand',\n",
       " u'\\xe1\\tNP\\t\\xe1',\n",
       " u'discriminating\\tVVG\\tdiscriminate',\n",
       " u'.\\tSENT\\t.']"
      ]
     },
     "execution_count": 7,
     "metadata": {},
     "output_type": "execute_result"
    }
   ],
   "source": [
    "tags"
   ]
  },
  {
   "cell_type": "code",
   "execution_count": 88,
   "metadata": {},
   "outputs": [],
   "source": [
    "from pprint import pprint as pp\n",
    "structure = english_parser.raw_parse(sentence)\n",
    "structure2 = english_parser.raw_parse(sentence2)"
   ]
  },
  {
   "cell_type": "code",
   "execution_count": 89,
   "metadata": {},
   "outputs": [],
   "source": [
    "dependencies = list(structure)"
   ]
  },
  {
   "cell_type": "code",
   "execution_count": 94,
   "metadata": {},
   "outputs": [
    {
     "name": "stdout",
     "output_type": "stream",
     "text": [
      "(ROOT\n",
      "  (S\n",
      "    (PP (IN At) (NP (DT a) (NN gathering)))\n",
      "    (NP (PRP I))\n",
      "    (VP\n",
      "      (VBD found)\n",
      "      (NP (PRP myself))\n",
      "      (S\n",
      "        (ADVP (RB involuntarily))\n",
      "        (VP\n",
      "          (VP\n",
      "            (VBG sitting)\n",
      "            (ADVP\n",
      "              (JJ next)\n",
      "              (PP\n",
      "                (TO to)\n",
      "                (NP\n",
      "                  (NP (CD two) (NN a) (NNS people))\n",
      "                  (SBAR\n",
      "                    (WHNP (WP who))\n",
      "                    (S\n",
      "                      (VP\n",
      "                        (VBD expressed)\n",
      "                        (NP (NNS opinions))\n",
      "                        (SBAR\n",
      "                          (IN that)\n",
      "                          (S\n",
      "                            (NP (PRP I))\n",
      "                            (VP\n",
      "                              (VBD considered)\n",
      "                              (ADJP (RB very) (JJ low))))))))))))\n",
      "          (CC and)\n",
      "          (VP (ADVP (RB a)) (VBG discriminating)))))\n",
      "    (. .)))\n"
     ]
    }
   ],
   "source": [
    "print dependencies[0]"
   ]
  },
  {
   "cell_type": "code",
   "execution_count": 124,
   "metadata": {},
   "outputs": [
    {
     "name": "stdout",
     "output_type": "stream",
     "text": [
      "1\n",
      "['__add__', '__class__', '__contains__', '__delattr__', '__doc__', '__eq__', '__format__', '__ge__', '__getattribute__', '__getitem__', '__getnewargs__', '__getslice__', '__gt__', '__hash__', '__init__', '__le__', '__len__', '__lt__', '__mod__', '__mul__', '__ne__', '__new__', '__reduce__', '__reduce_ex__', '__repr__', '__rmod__', '__rmul__', '__setattr__', '__sizeof__', '__str__', '__subclasshook__', '_formatter_field_name_split', '_formatter_parser', 'capitalize', 'center', 'count', 'decode', 'encode', 'endswith', 'expandtabs', 'find', 'format', 'index', 'isalnum', 'isalpha', 'isdecimal', 'isdigit', 'islower', 'isnumeric', 'isspace', 'istitle', 'isupper', 'join', 'ljust', 'lower', 'lstrip', 'partition', 'replace', 'rfind', 'rindex', 'rjust', 'rpartition', 'rsplit', 'rstrip', 'split', 'splitlines', 'startswith', 'strip', 'swapcase', 'title', 'translate', 'upper', 'zfill']\n"
     ]
    },
    {
     "ename": "TypeError",
     "evalue": "coercing to Unicode: need string or buffer, int found",
     "output_type": "error",
     "traceback": [
      "\u001b[0;31m---------------------------------------------------------------------------\u001b[0m",
      "\u001b[0;31mTypeError\u001b[0m                                 Traceback (most recent call last)",
      "\u001b[0;32m<ipython-input-124-45e8bd2b5ff3>\u001b[0m in \u001b[0;36m<module>\u001b[0;34m()\u001b[0m\n\u001b[1;32m      2\u001b[0m \u001b[0;32mfor\u001b[0m \u001b[0mitem\u001b[0m \u001b[0;32min\u001b[0m \u001b[0mdependencies\u001b[0m\u001b[0;34m:\u001b[0m\u001b[0;34m\u001b[0m\u001b[0m\n\u001b[1;32m      3\u001b[0m     \u001b[0;32mprint\u001b[0m \u001b[0mdir\u001b[0m\u001b[0;34m(\u001b[0m\u001b[0mitem\u001b[0m\u001b[0;34m[\u001b[0m\u001b[0;36m0\u001b[0m\u001b[0;34m]\u001b[0m\u001b[0;34m[\u001b[0m\u001b[0;36m0\u001b[0m\u001b[0;34m]\u001b[0m\u001b[0;34m[\u001b[0m\u001b[0;36m0\u001b[0m\u001b[0;34m]\u001b[0m\u001b[0;34m[\u001b[0m\u001b[0;36m0\u001b[0m\u001b[0;34m]\u001b[0m\u001b[0;34m)\u001b[0m\u001b[0;34m\u001b[0m\u001b[0m\n\u001b[0;32m----> 4\u001b[0;31m     \u001b[0;32mprint\u001b[0m \u001b[0mitem\u001b[0m\u001b[0;34m[\u001b[0m\u001b[0;36m0\u001b[0m\u001b[0;34m]\u001b[0m\u001b[0;34m[\u001b[0m\u001b[0;36m0\u001b[0m\u001b[0;34m]\u001b[0m\u001b[0;34m[\u001b[0m\u001b[0;36m0\u001b[0m\u001b[0;34m]\u001b[0m\u001b[0;34m[\u001b[0m\u001b[0;36m0\u001b[0m\u001b[0;34m]\u001b[0m\u001b[0;34m.\u001b[0m\u001b[0mpartition\u001b[0m\u001b[0;34m(\u001b[0m\u001b[0;36m0\u001b[0m\u001b[0;34m)\u001b[0m\u001b[0;34m\u001b[0m\u001b[0m\n\u001b[0m\u001b[1;32m      5\u001b[0m     \u001b[0;32mprint\u001b[0m \u001b[0mitem\u001b[0m\u001b[0;34m[\u001b[0m\u001b[0;36m0\u001b[0m\u001b[0;34m]\u001b[0m\u001b[0;34m[\u001b[0m\u001b[0;36m0\u001b[0m\u001b[0;34m]\u001b[0m\u001b[0;34m[\u001b[0m\u001b[0;36m0\u001b[0m\u001b[0;34m]\u001b[0m\u001b[0;34m[\u001b[0m\u001b[0;36m0\u001b[0m\u001b[0;34m]\u001b[0m \u001b[0;34m==\u001b[0m \u001b[0;34m\"At\"\u001b[0m\u001b[0;34m\u001b[0m\u001b[0m\n",
      "\u001b[0;31mTypeError\u001b[0m: coercing to Unicode: need string or buffer, int found"
     ]
    }
   ],
   "source": [
    "print len(dependencies)\n",
    "for item in dependencies:\n",
    "    print dir(item[0][0][0][0])\n",
    "    print item[0][0][0][0].partition(0)\n",
    "    print item[0][0][0][0] == \"At\""
   ]
  },
  {
   "cell_type": "code",
   "execution_count": 108,
   "metadata": {},
   "outputs": [
    {
     "ename": "AttributeError",
     "evalue": "'Tree' object has no attribute 'title'",
     "output_type": "error",
     "traceback": [
      "\u001b[0;31m---------------------------------------------------------------------------\u001b[0m",
      "\u001b[0;31mAttributeError\u001b[0m                            Traceback (most recent call last)",
      "\u001b[0;32m<ipython-input-108-f8947f35db96>\u001b[0m in \u001b[0;36m<module>\u001b[0;34m()\u001b[0m\n\u001b[0;32m----> 1\u001b[0;31m \u001b[0;32mprint\u001b[0m \u001b[0mdependencies\u001b[0m\u001b[0;34m[\u001b[0m\u001b[0;36m0\u001b[0m\u001b[0;34m]\u001b[0m\u001b[0;34m[\u001b[0m\u001b[0;36m0\u001b[0m\u001b[0;34m]\u001b[0m\u001b[0;34m[\u001b[0m\u001b[0;36m0\u001b[0m\u001b[0;34m]\u001b[0m\u001b[0;34m[\u001b[0m\u001b[0;36m0\u001b[0m\u001b[0;34m]\u001b[0m\u001b[0;34m.\u001b[0m\u001b[0mtitle\u001b[0m\u001b[0;34m(\u001b[0m\u001b[0;34m)\u001b[0m\u001b[0;34m\u001b[0m\u001b[0m\n\u001b[0m",
      "\u001b[0;31mAttributeError\u001b[0m: 'Tree' object has no attribute 'title'"
     ]
    }
   ],
   "source": [
    "print dependencies[0][0][0][0].title()"
   ]
  },
  {
   "cell_type": "code",
   "execution_count": 80,
   "metadata": {
    "scrolled": true
   },
   "outputs": [
    {
     "ename": "TypeError",
     "evalue": "'listiterator' object has no attribute '__getitem__'",
     "output_type": "error",
     "traceback": [
      "\u001b[0;31m---------------------------------------------------------------------------\u001b[0m",
      "\u001b[0;31mTypeError\u001b[0m                                 Traceback (most recent call last)",
      "\u001b[0;32m<ipython-input-80-143fb35aac70>\u001b[0m in \u001b[0;36m<module>\u001b[0;34m()\u001b[0m\n\u001b[1;32m      1\u001b[0m \u001b[0;32mfor\u001b[0m \u001b[0mitem\u001b[0m \u001b[0;32min\u001b[0m \u001b[0mdependencies\u001b[0m\u001b[0;34m:\u001b[0m\u001b[0;34m\u001b[0m\u001b[0m\n\u001b[0;32m----> 2\u001b[0;31m     \u001b[0;32mprint\u001b[0m \u001b[0mlen\u001b[0m\u001b[0;34m(\u001b[0m\u001b[0mitem\u001b[0m\u001b[0;34m[\u001b[0m\u001b[0;36m0\u001b[0m\u001b[0;34m]\u001b[0m\u001b[0;34m[\u001b[0m\u001b[0;36m0\u001b[0m\u001b[0;34m]\u001b[0m\u001b[0;34m)\u001b[0m\u001b[0;34m\u001b[0m\u001b[0m\n\u001b[0m\u001b[1;32m      3\u001b[0m     \u001b[0mpp\u001b[0m\u001b[0;34m(\u001b[0m\u001b[0mitem\u001b[0m\u001b[0;34m[\u001b[0m\u001b[0;36m0\u001b[0m\u001b[0;34m]\u001b[0m\u001b[0;34m[\u001b[0m\u001b[0;36m0\u001b[0m\u001b[0;34m]\u001b[0m\u001b[0;34m[\u001b[0m\u001b[0;36m0\u001b[0m\u001b[0;34m]\u001b[0m\u001b[0;34m)\u001b[0m\u001b[0;34m\u001b[0m\u001b[0m\n\u001b[1;32m      4\u001b[0m     \u001b[0;32mprint\u001b[0m \u001b[0mitem\u001b[0m\u001b[0;34m[\u001b[0m\u001b[0;36m0\u001b[0m\u001b[0;34m]\u001b[0m\u001b[0;34m[\u001b[0m\u001b[0;36m0\u001b[0m\u001b[0;34m]\u001b[0m\u001b[0;34m[\u001b[0m\u001b[0;36m0\u001b[0m\u001b[0;34m]\u001b[0m \u001b[0;34m==\u001b[0m \u001b[0;34m'IN'\u001b[0m\u001b[0;34m\u001b[0m\u001b[0m\n",
      "\u001b[0;31mTypeError\u001b[0m: 'listiterator' object has no attribute '__getitem__'"
     ]
    }
   ],
   "source": [
    "for item in dependencies:\n",
    "    print len(item[0][0])\n",
    "    pp(item[0][0][0])\n",
    "    print item[0][0][0] == 'IN'"
   ]
  },
  {
   "cell_type": "code",
   "execution_count": 56,
   "metadata": {},
   "outputs": [
    {
     "name": "stdout",
     "output_type": "stream",
     "text": [
      "At\n"
     ]
    }
   ],
   "source": [
    "print dependencies[0][0][0][0][0]"
   ]
  },
  {
   "cell_type": "code",
   "execution_count": 34,
   "metadata": {},
   "outputs": [
    {
     "name": "stdout",
     "output_type": "stream",
     "text": [
      "(ROOT\n",
      "  (S\n",
      "    (PP (IN At) (NP (DT a) (NN gathering)))\n",
      "    (NP (PRP I))\n",
      "    (VP\n",
      "      (VBD found)\n",
      "      (NP (PRP myself))\n",
      "      (S\n",
      "        (ADVP (RB involuntarily))\n",
      "        (VP\n",
      "          (VP\n",
      "            (VBG sitting)\n",
      "            (ADVP\n",
      "              (JJ next)\n",
      "              (PP\n",
      "                (TO to)\n",
      "                (NP\n",
      "                  (NP (CD two) (NN a) (NNS people))\n",
      "                  (SBAR\n",
      "                    (WHNP (WP who))\n",
      "                    (S\n",
      "                      (VP\n",
      "                        (VBD expressed)\n",
      "                        (NP (NNS opinions))\n",
      "                        (SBAR\n",
      "                          (IN that)\n",
      "                          (S\n",
      "                            (NP (PRP I))\n",
      "                            (VP\n",
      "                              (VBD considered)\n",
      "                              (ADJP (RB very) (JJ low))))))))))))\n",
      "          (CC and)\n",
      "          (VP (ADVP (RB a)) (VBG discriminating)))))\n",
      "    (. .)))\n"
     ]
    }
   ],
   "source": [
    "for item in structure:\n",
    "    print item\n",
    "    item.draw()"
   ]
  },
  {
   "cell_type": "code",
   "execution_count": 10,
   "metadata": {},
   "outputs": [
    {
     "name": "stdout",
     "output_type": "stream",
     "text": [
      "At\tIN\tat means None\n",
      "\n",
      "a\tDT\ta means None\n",
      "\n",
      "gathering\tNN\tgathering means None\n",
      "\n",
      "I\tPP\tI means None\n",
      "\n",
      "found\tVVD\tfind means None\n",
      "\n",
      "myself\tPP\tmyself means None\n",
      "\n",
      "involuntarily\tRB\tinvoluntarily means None\n",
      "\n",
      "sitting\tVVG\tsit means None\n",
      "\n",
      "next\tJJ\tnext means None\n",
      "\n",
      "to\tTO\tto means None\n",
      "\n",
      "two\tCD\ttwo means None\n",
      "\n",
      "á\tNP\tá means None\n",
      "\n",
      "people\tNNS\tpeople means None\n",
      "\n",
      "who\tWP\twho means None\n",
      "\n",
      "expressed\tVVD\texpress means None\n",
      "\n",
      "opinions\tNNS\topinion means None\n",
      "\n",
      "that\tIN/that\tthat means None\n",
      "\n",
      "I\tPP\tI means None\n",
      "\n",
      "considered\tVVD\tconsider means None\n",
      "\n",
      "very\tRB\tvery means None\n",
      "\n",
      "low\tJJ\tlow means None\n",
      "\n",
      "and\tCC\tand means None\n",
      "\n",
      "á\tNP\tá means None\n",
      "\n",
      "discriminating\tVVG\tdiscriminate means None\n",
      "\n",
      ".\tSENT\t. means None\n",
      "\n"
     ]
    }
   ],
   "source": [
    "for word in tags:\n",
    "        if len(word) >= 2:\n",
    "            try:\n",
    "                emo = wna.get_emotion(word[0], word[1])\n",
    "                print word+\" means \"+str(emo)+\"\\n\"   \n",
    "            except Error as e:\n",
    "                print e"
   ]
  }
 ],
 "metadata": {
  "kernelspec": {
   "display_name": "Python 2",
   "language": "python",
   "name": "python2"
  },
  "language_info": {
   "codemirror_mode": {
    "name": "ipython",
    "version": 2
   },
   "file_extension": ".py",
   "mimetype": "text/x-python",
   "name": "python",
   "nbconvert_exporter": "python",
   "pygments_lexer": "ipython2",
   "version": "2.7.12"
  }
 },
 "nbformat": 4,
 "nbformat_minor": 2
}
