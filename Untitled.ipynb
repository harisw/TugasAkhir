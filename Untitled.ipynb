{
 "cells": [
  {
   "cell_type": "code",
   "execution_count": 1,
   "metadata": {},
   "outputs": [],
   "source": [
    "from xml.etree.ElementTree import XML\n",
    "from mysql.connector import MySQLConnection, Error\n",
    "from python_mysql_dbconfig import read_db_config\n",
    "from nltk.corpus import stopwords\n",
    "from nltk.stem.wordnet import WordNetLemmatizer\n",
    "from nltk.tokenize import word_tokenize\n",
    "import nltk\n",
    "import re\n",
    "import sys\n",
    "from unidecode import unidecode\n",
    "import string\n",
    "from autocorrect import spell\n",
    "from progress.bar import FillingCirclesBar as fcb\n",
    "from nltk.tag import StanfordNERTagger as nerTagger\n",
    "import enchant"
   ]
  },
  {
   "cell_type": "code",
   "execution_count": 2,
   "metadata": {},
   "outputs": [],
   "source": [
    "dbconfig = read_db_config()\n",
    "conn = MySQLConnection(**dbconfig)\n",
    "cursor = conn.cursor()"
   ]
  },
  {
   "cell_type": "code",
   "execution_count": 3,
   "metadata": {},
   "outputs": [],
   "source": [
    "\t\twith open('database/AffectiveText/affectivetext_trial.emotions.gold') as file:\n",
    "\t\t\temo_xml = file.readlines()\n",
    "\t\twith open('database/AffectiveText/affectivetext_trial.xml') as file:\n",
    "\t\t\txml_f = file.read().replace('\\n', '')\n",
    "\t\telem = XML(xml_f)"
   ]
  },
  {
   "cell_type": "code",
   "execution_count": 4,
   "metadata": {},
   "outputs": [
    {
     "data": {
      "text/plain": [
       "'id  anger disgust fear joy sadness surprise \\n'"
      ]
     },
     "execution_count": 4,
     "metadata": {},
     "output_type": "execute_result"
    }
   ],
   "source": [
    "emo_xml[0]"
   ]
  }
 ],
 "metadata": {
  "kernelspec": {
   "display_name": "Python 2",
   "language": "python",
   "name": "python2"
  },
  "language_info": {
   "codemirror_mode": {
    "name": "ipython",
    "version": 2
   },
   "file_extension": ".py",
   "mimetype": "text/x-python",
   "name": "python",
   "nbconvert_exporter": "python",
   "pygments_lexer": "ipython2",
   "version": "2.7.12"
  }
 },
 "nbformat": 4,
 "nbformat_minor": 2
}
